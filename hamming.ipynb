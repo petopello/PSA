{
  "nbformat": 4,
  "nbformat_minor": 0,
  "metadata": {
    "colab": {
      "provenance": [],
      "authorship_tag": "ABX9TyN0uiy/7iToeZijeNA7396y",
      "include_colab_link": true
    },
    "kernelspec": {
      "name": "python3",
      "display_name": "Python 3"
    },
    "language_info": {
      "name": "python"
    }
  },
  "cells": [
    {
      "cell_type": "markdown",
      "metadata": {
        "id": "view-in-github",
        "colab_type": "text"
      },
      "source": [
        "<a href=\"https://colab.research.google.com/github/petopello/PSA/blob/main/hamming.ipynb\" target=\"_parent\"><img src=\"https://colab.research.google.com/assets/colab-badge.svg\" alt=\"Open In Colab\"/></a>"
      ]
    },
    {
      "cell_type": "markdown",
      "source": [
        "Partial Sum Accumulation algorithm: Linear-time neighbor summation in hamming space\n",
        "\n",
        "[Substack post](https://sudapollismo.substack.com/p/partial-sum-accumulation-algorithm)\n",
        "\n",
        "[Github](https://github.com/petopello/PSA)"
      ],
      "metadata": {
        "id": "PJsgFXYtLcfC"
      }
    },
    {
      "cell_type": "code",
      "source": [
        "#SPACE STRUCTURE\n",
        "import numpy as np\n",
        "\n",
        "def get_coords(index, q):\n",
        "    coords = []\n",
        "    for dim in reversed(q):\n",
        "        coords.append(index % dim)\n",
        "        index //= dim\n",
        "    return coords[::-1]\n",
        "\n",
        "q=[2,3]\n",
        "#q=[3,2]\n",
        "space=np.arange(np.prod(q))\n",
        "\n",
        "print(f'{str(\"coords\"):<15}{str(\"space\"):<10}')\n",
        "for i, v in enumerate(space):\n",
        "    print(f'{str(get_coords(i, q)):<15}{str(v):<10}')"
      ],
      "metadata": {
        "colab": {
          "base_uri": "https://localhost:8080/"
        },
        "id": "Ox-SdSvb4Szg",
        "outputId": "0670f912-61dc-441a-ca7b-8c67f5cd333c"
      },
      "execution_count": null,
      "outputs": [
        {
          "output_type": "stream",
          "name": "stdout",
          "text": [
            "coords         space     \n",
            "[0, 0]         0         \n",
            "[0, 1]         1         \n",
            "[0, 2]         2         \n",
            "[1, 0]         3         \n",
            "[1, 1]         4         \n",
            "[1, 2]         5         \n"
          ]
        }
      ]
    },
    {
      "cell_type": "code",
      "source": [
        "#NAIVE ALGORITHM\n",
        "import numpy as np\n",
        "\n",
        "def get_coords(index, q):\n",
        "    coords = []\n",
        "    for dim in reversed(q):\n",
        "        coords.append(index % dim)\n",
        "        index //= dim\n",
        "    return coords[::-1]\n",
        "\n",
        "def SHN_naive_element(index, space, r, base, min=0):\n",
        "    acum=space[index]\n",
        "    if r>1:\n",
        "        for i in range(min, len(base)):\n",
        "            diff=apply_diff_index(index, i, base)\n",
        "            diff=[SHN_naive_element(ind, space, r-1, base, i+1) for ind in diff]\n",
        "            acum+=np.sum(diff)\n",
        "    else:\n",
        "        for i in range(min, len(base)):\n",
        "            diff=apply_diff_index(index, i, base)\n",
        "            acum+=np.sum([space[ind] for ind in diff])\n",
        "    return acum\n",
        "\n",
        "def apply_diff_index(index, d, base):\n",
        "    return [index+b for b in base[d]]\n",
        "\n",
        "def SHN_element(index, space, q, r):\n",
        "    coords=get_coords(index, q)\n",
        "    base=[[n*e for n in list(range(q[i]-1, 0, -1)) + list(range(-1, -q[i], -1))] for i, e in enumerate(np.cumprod([1]+q[:0:-1])[::-1])]\n",
        "    base=[e[coords[i]:coords[i]+q[i]-1] for i, e in enumerate(base)]\n",
        "    return SHN_naive_element(index, space, r, base)\n",
        "\n",
        "r=1\n",
        "q=[2,3]\n",
        "#q=[3,2]\n",
        "space=np.arange(np.prod(q))\n",
        "\n",
        "print(f'{str(\"coords\"):<15}{str(\"space\"):<10}{str(\"naive\"):<10}')\n",
        "for i, v in enumerate(space):\n",
        "    print(f'{str(get_coords(i, q)):<15}{str(v):<10}{str(SHN_element(i, space, q, r)):<10}')"
      ],
      "metadata": {
        "colab": {
          "base_uri": "https://localhost:8080/"
        },
        "id": "O8Uk1OX85TtM",
        "outputId": "bc9fdcbb-5ab9-4819-a615-43673bf7f28d"
      },
      "execution_count": null,
      "outputs": [
        {
          "output_type": "stream",
          "name": "stdout",
          "text": [
            "coords         space     naive     \n",
            "[0, 0]         0         6         \n",
            "[0, 1]         1         7         \n",
            "[0, 2]         2         8         \n",
            "[1, 0]         3         12        \n",
            "[1, 1]         4         13        \n",
            "[1, 2]         5         14        \n"
          ]
        }
      ]
    },
    {
      "cell_type": "code",
      "source": [
        "#BASIC TRANSFORMATION FOR MATRIX\n",
        "import numpy as np\n",
        "\n",
        "def apply_difference(space, g, j):\n",
        "    aux=space.reshape(-1, g)\n",
        "    aux=np.roll(aux, j, axis=1)\n",
        "    return aux.flatten()\n",
        "\n",
        "q=[2,3]\n",
        "space=np.arange(np.prod(q))\n",
        "diff=apply_difference(space, 3, 1)\n",
        "#diff=apply_difference(space, 2, 1)\n",
        "\n",
        "print(f'{str(\"coords\"):<15}{str(\"space\"):<10}{str(\"diff\"):<10}')\n",
        "for i, v in enumerate(space):\n",
        "    print(f'{str(get_coords(i, q)):<15}{str(v):<10}{str(diff[i]):<10}')"
      ],
      "metadata": {
        "colab": {
          "base_uri": "https://localhost:8080/"
        },
        "id": "8wIaW4vC6N-M",
        "outputId": "271d88b7-3f61-4fee-97f5-3d44eb21459c"
      },
      "execution_count": null,
      "outputs": [
        {
          "output_type": "stream",
          "name": "stdout",
          "text": [
            "coords         space     diff      \n",
            "[0, 0]         0         2         \n",
            "[0, 1]         1         0         \n",
            "[0, 2]         2         1         \n",
            "[1, 0]         3         5         \n",
            "[1, 1]         4         3         \n",
            "[1, 2]         5         4         \n"
          ]
        }
      ]
    },
    {
      "cell_type": "code",
      "source": [
        "#PSA vs NAIVE MATRIX\n",
        "import numpy as np\n",
        "\n",
        "def apply_diff(space, d, base):\n",
        "    aux=space.reshape(-1, base[d][0])\n",
        "    return [np.roll(aux, b, axis=1) for b in base[d][1:]]\n",
        "\n",
        "def SHN_naive_matrix(space, r, base, min=0, cont=0):\n",
        "    acum=space.copy()\n",
        "    if r>1:\n",
        "        for i in range(min, len(base)):\n",
        "            diff=apply_diff(space, i, base)\n",
        "            diff=[SHN_naive_matrix(array.flatten(), r-1, base, i+1) for array in diff]\n",
        "            s=[d[1] for d in diff]\n",
        "            cont+=len(diff)+np.sum(s)\n",
        "            diff=[d[0] for d in diff]\n",
        "            acum+=np.sum(diff, axis=0)\n",
        "    else:\n",
        "        for i in range(min, len(base)):\n",
        "            diff=apply_diff(space, i, base)\n",
        "            cont+=len(diff)\n",
        "            acum+=np.sum(diff, axis=0).flatten()\n",
        "    return [acum, cont]\n",
        "\n",
        "def SHN_matrix(space, q, r):\n",
        "    if r == 0: return [space, 0]\n",
        "    base = [[n * e for n in range(q[i], 0, -1)] for i, e in enumerate(np.cumprod([1]+q[:0:-1])[::-1])][::-1]\n",
        "    return SHN_naive_matrix(space, r, base)\n",
        "\n",
        "def SHN_PSA(space, q, r):\n",
        "    if len(space) != np.prod(q): raise ValueError(f\"'space' and 'q' are not compatible: len(space)={len(space)} but np.prod(q)={np.prod(q)}.\")\n",
        "    if len(q) < r: raise ValueError(f\"'r' cannot be greater than len(q): r={r} but len(q)={len(q)}.\")\n",
        "    base = [[n * e for n in range(q[i], 0, -1)] for i, e in enumerate(np.cumprod([1]+q[:0:-1])[::-1])][::-1]\n",
        "    d=len(q)\n",
        "    sum=space.copy()\n",
        "    cont=0\n",
        "    acum = np.tile(space, (d, 1))\n",
        "    for n in range(r):\n",
        "        for i in range(n, d):\n",
        "            diff=apply_diff(acum[i-n], i, base)\n",
        "            cont+=len(diff)-1\n",
        "            acum[i-n]=np.sum(diff, axis=0).flatten()\n",
        "            if i > n:\n",
        "                acum[i-n]+=acum[i-n-1]\n",
        "                cont+=1\n",
        "        sum+=acum[d-n-1]\n",
        "        cont+=1\n",
        "    return [sum,cont]\n",
        "\n",
        "r=4\n",
        "q=[3,3,3,3,3,3,3]\n",
        "#q=[2,3,4,5,6,7,8]\n",
        "#q=[8,7,6,5,4,3,2]\n",
        "space=np.random.rand(np.prod(q))\n",
        "\n",
        "psa=SHN_PSA(space, q, r)\n",
        "print(\"PSA total sums: \"+str(psa[1]))\n",
        "naive=SHN_matrix(space, q, r)\n",
        "print(\"NAIVE total sums: \"+str(naive[1]))\n",
        "\n",
        "print(\"abs: \"+str(np.sum(np.abs(psa[0] - naive[0]))))"
      ],
      "metadata": {
        "colab": {
          "base_uri": "https://localhost:8080/"
        },
        "id": "vrNbVT7X7QU9",
        "outputId": "4f262626-ce56-45ae-eb4d-f8e4005a1fdb"
      },
      "execution_count": null,
      "outputs": [
        {
          "output_type": "stream",
          "name": "stdout",
          "text": [
            "PSA total sums: 44\n",
            "NAIVE total sums: 938\n",
            "abs: 9.669065548223443e-11\n"
          ]
        }
      ]
    },
    {
      "cell_type": "code",
      "source": [
        "#BONUS1 (BOXES ALGORITHM): SHORTCUT FOR HAMMING NEIGHBORS SUMMATION APPLICABLE IN SOME CASES WHEN IT IS KNOWN HOW 'space' WAS CONSTRUCTED\n",
        "import numpy as np\n",
        "\n",
        "def create_space(prob):\n",
        "    space = [1.0]\n",
        "    for i in range(len(prob)):\n",
        "        space = [x*p for x in space for p in prob[i]]\n",
        "    return space\n",
        "\n",
        "def SHN_boxes(prob, r):\n",
        "    space = [[1.0]+[0.0]*r]\n",
        "    for i in range(len(prob)):\n",
        "        space = [\n",
        "            [s+(o-s)*p for o, s in zip(x, [0.0]+x[:-1])]\n",
        "            for x in space for p in prob[i]\n",
        "        ]\n",
        "    return np.sum(space, axis=1)\n",
        "\n",
        "def SHN_PSA(space, q, r):\n",
        "    if len(space) != np.prod(q): raise ValueError(f\"'space' and 'q' are not compatible: len(space)={len(space)} but np.prod(q)={np.prod(q)}.\")\n",
        "    if len(q) < r: raise ValueError(f\"'r' cannot be greater than len(q): r={r} but len(q)={len(q)}.\")\n",
        "    base = [[n * e for n in range(q[i], 0, -1)] for i, e in enumerate(np.cumprod([1]+q[:0:-1])[::-1])][::-1]\n",
        "    d=len(q)\n",
        "    sum=space.copy()\n",
        "    acum = np.tile(space, (d, 1))\n",
        "    for n in range(r):\n",
        "        for i in range(n, d):\n",
        "            diff=apply_diff(acum[i-n], i, base)\n",
        "            acum[i-n]=np.sum(diff, axis=0).flatten()\n",
        "            if i > n:\n",
        "                acum[i-n]+=acum[i-n-1]\n",
        "        sum+=acum[d-n-1]\n",
        "    return sum\n",
        "def apply_diff(space, d, base):\n",
        "    aux=space.reshape(-1, base[d][0])\n",
        "    return [np.roll(aux, b, axis=1) for b in base[d][1:]]\n",
        "\n",
        "PROB = [\n",
        "    [0.1, 0.2, 0.7],\n",
        "    [0.4, 0.6],\n",
        "    [0.2, 0.3, 0.4, 0.1]\n",
        "]\n",
        "r=2\n",
        "q=[len(p) for p in PROB]\n",
        "space=create_space(PROB)\n",
        "\n",
        "boxes=SHN_boxes(PROB, r)\n",
        "psa=SHN_PSA(space, q, r)\n",
        "\n",
        "print(\"abs: \"+str(np.sum(np.abs(psa - boxes))))"
      ],
      "metadata": {
        "colab": {
          "base_uri": "https://localhost:8080/"
        },
        "id": "UfJ0rX809gFl",
        "outputId": "72c4ea44-662b-4c5e-eea8-e23f74e8f646"
      },
      "execution_count": null,
      "outputs": [
        {
          "output_type": "stream",
          "name": "stdout",
          "text": [
            "abs: 1.4432899320127035e-15\n"
          ]
        }
      ]
    },
    {
      "cell_type": "code",
      "source": [
        "#BONUS2 (DISTANCES ALGORITHM): CALCULATE HAMMING DISTANCES OF ALL PAIR OF POINTS IN A COMPLETE SPACE WITH FRACTAL APPROACH\n",
        "import numpy as np\n",
        "\n",
        "#CASE SIMETRIC SPACE q=3\n",
        "def distances_q3(d):\n",
        "    A=np.array([[0]])\n",
        "    for i in range(d):\n",
        "        A = np.block([\n",
        "        [A, A+1, A+1],\n",
        "        [A+1, A, A+1],\n",
        "        [A+1, A+1, A]\n",
        "        ])\n",
        "    return A\n",
        "\n",
        "#CASE GENERALIZED\n",
        "def distances(q):\n",
        "    A=np.array([[0]])\n",
        "    for i in range(len(q)-1, -1, -1):\n",
        "        A = np.block([\n",
        "            [A if r == c else A+1 for r in range(q[i])]\n",
        "            for c in range(q[i])\n",
        "            ])\n",
        "    return A\n",
        "\n",
        "d=2\n",
        "dis=distances_q3(d)\n",
        "print(dis)\n",
        "\n",
        "q=[2,3]\n",
        "#q=[3,2]\n",
        "#q=[2,3,4]\n",
        "dis=distances(q)\n",
        "print(dis)"
      ],
      "metadata": {
        "colab": {
          "base_uri": "https://localhost:8080/"
        },
        "id": "flp4UqnpJ4Zu",
        "outputId": "c873c4a1-d85a-4c7d-f673-a07d485711e7"
      },
      "execution_count": null,
      "outputs": [
        {
          "output_type": "stream",
          "name": "stdout",
          "text": [
            "[[0 1 1 1 2 2 1 2 2]\n",
            " [1 0 1 2 1 2 2 1 2]\n",
            " [1 1 0 2 2 1 2 2 1]\n",
            " [1 2 2 0 1 1 1 2 2]\n",
            " [2 1 2 1 0 1 2 1 2]\n",
            " [2 2 1 1 1 0 2 2 1]\n",
            " [1 2 2 1 2 2 0 1 1]\n",
            " [2 1 2 2 1 2 1 0 1]\n",
            " [2 2 1 2 2 1 1 1 0]]\n",
            "[[0 1 1 1 2 2]\n",
            " [1 0 1 2 1 2]\n",
            " [1 1 0 2 2 1]\n",
            " [1 2 2 0 1 1]\n",
            " [2 1 2 1 0 1]\n",
            " [2 2 1 1 1 0]]\n"
          ]
        }
      ]
    },
    {
      "cell_type": "code",
      "source": [
        "#FULL CLEAN CODE\n",
        "import numpy as np\n",
        "# SHN_PSA (Sum Hamming Neighbours with Partial Sums Accumulation)\n",
        "# space (list[number]): complete hamming space (all possible combination of the elements in each dimension exists) flattened in 1D array\n",
        "# q (list[number]): number of possible elements in each dimension\n",
        "# r (int): maximum hamming distance for neighbour summation\n",
        "# return (list[number]): hamming space with the sums of values of all neighbours within distance<=r flattened in 1D array\n",
        "def SHN_PSA(space, q, r):\n",
        "    if len(space) != np.prod(q): raise ValueError(f\"'space' and 'q' are not compatible: len(space)={len(space)} but np.prod(q)={np.prod(q)}.\")\n",
        "    if len(q) < r: raise ValueError(f\"'r' cannot be greater than len(q): r={r} but len(q)={len(q)}.\")\n",
        "    base = [[n * e for n in range(q[i], 0, -1)] for i, e in enumerate(np.cumprod([1]+q[:0:-1])[::-1])][::-1]\n",
        "    d=len(q)\n",
        "    sum=space.copy()\n",
        "    acum = np.tile(space, (d, 1))\n",
        "    for n in range(r):\n",
        "        for i in range(n, d):\n",
        "            diff=apply_diff(acum[i-n], i, base)\n",
        "            acum[i-n]=np.sum(diff, axis=0).flatten()\n",
        "            if i > n:\n",
        "                acum[i-n]+=acum[i-n-1]\n",
        "        sum+=acum[d-n-1]\n",
        "    return sum\n",
        "\n",
        "def SHN_matrix(space, q, r):\n",
        "    if r == 0: return [space, 0]\n",
        "    base = [[n * e for n in range(q[i], 0, -1)] for i, e in enumerate(np.cumprod([1]+q[:0:-1])[::-1])][::-1]\n",
        "    return SHN_naive_matrix(space, r, base)\n",
        "\n",
        "def SHN_element(index, space, q, r):\n",
        "    coords=get_coords(index, q)\n",
        "    base=[[n*e for n in list(range(q[i]-1, 0, -1)) + list(range(-1, -q[i], -1))] for i, e in enumerate(np.cumprod([1]+q[:0:-1])[::-1])]\n",
        "    base=[e[coords[i]:coords[i]+q[i]-1] for i, e in enumerate(base)]\n",
        "    return SHN_naive_element(index, space, r, base)\n",
        "\n",
        "def SHN_naive_matrix(space, r, base, min=0):\n",
        "    acum=space.copy()\n",
        "    if r>1:\n",
        "        for i in range(min, len(base)):\n",
        "            diff=apply_diff(space, i, base)\n",
        "            diff=[SHN_naive_matrix(array.flatten(), r-1, base, i+1) for array in diff]\n",
        "            acum+=np.sum(diff, axis=0)\n",
        "    else:\n",
        "        for i in range(min, len(base)):\n",
        "            diff=apply_diff(space, i, base)\n",
        "            acum+=np.sum(diff, axis=0).flatten()\n",
        "    return acum\n",
        "\n",
        "def SHN_naive_element(index, space, r, base, min=0):\n",
        "    acum=space[index]\n",
        "    if r>1:\n",
        "        for i in range(min, len(base)):\n",
        "            diff=apply_diff_index(index, i, base)\n",
        "            diff=[SHN_naive_element(ind, space, r-1, base, i+1) for ind in diff]\n",
        "            acum+=np.sum(diff)\n",
        "    else:\n",
        "        for i in range(min, len(base)):\n",
        "            diff=apply_diff_index(index, i, base)\n",
        "            acum+=np.sum([space[ind] for ind in diff])\n",
        "    return acum\n",
        "\n",
        "def apply_diff(space, d, base):\n",
        "    aux=space.reshape(-1, base[d][0])\n",
        "    return [np.roll(aux, b, axis=1) for b in base[d][1:]]\n",
        "\n",
        "def apply_diff_index(index, d, base):\n",
        "    return [index+b for b in base[d]]\n",
        "\n",
        "def get_coords(index, q):\n",
        "    coords = []\n",
        "    for dim in reversed(q):\n",
        "        coords.append(index % dim)\n",
        "        index //= dim\n",
        "    return coords[::-1]\n",
        "\n",
        "def create_space(prob):\n",
        "    space = [1.0]\n",
        "    for i in range(len(prob)):\n",
        "        space = [x * p for x in space for p in prob[i]]\n",
        "    return space\n",
        "\n",
        "def SHN_boxes(prob, r):\n",
        "    space = [[1.0] + [0.0] * r]\n",
        "    for i in range(len(prob)):\n",
        "        space = [\n",
        "            [s + (o - s) * p for o, s in zip(x, [0.0] + x[:-1])]\n",
        "            for x in space for p in prob[i]\n",
        "        ]\n",
        "    return np.sum(space, axis=1)\n",
        "\n",
        "def distances(q):\n",
        "    A=np.array([[0]])\n",
        "    for i in range(len(q)-1, -1, -1):\n",
        "        A = np.block([\n",
        "            [A if r == c else A+1 for r in range(q[i])]\n",
        "            for c in range(q[i])\n",
        "            ])\n",
        "    return A"
      ],
      "metadata": {
        "id": "2THptbog-c21"
      },
      "execution_count": null,
      "outputs": []
    }
  ]
}